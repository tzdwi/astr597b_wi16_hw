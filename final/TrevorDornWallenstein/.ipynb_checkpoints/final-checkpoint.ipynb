{
 "cells": [
  {
   "cell_type": "markdown",
   "metadata": {},
   "source": [
    "# Trevor Dorn-Wallenstein\n",
    "# Astr 597B - Final: Importing DECaLS Data"
   ]
  },
  {
   "cell_type": "code",
   "execution_count": 1,
   "metadata": {
    "collapsed": true
   },
   "outputs": [],
   "source": [
    "from astropy.io import fits\n",
    "import numpy as np"
   ]
  },
  {
   "cell_type": "code",
   "execution_count": 2,
   "metadata": {
    "collapsed": false
   },
   "outputs": [],
   "source": [
    "from astropy.table import Table"
   ]
  },
  {
   "cell_type": "markdown",
   "metadata": {},
   "source": [
    "## This directory/notebook contains the YAML file to read in one of the Tractor catalogues from the DECaLS survey, located at http://portal.nersc.gov/project/cosmo/data/legacysurvey/dr2/tractor/. The format for these files can be found at http://legacysurvey.org/dr2/catalogs/."
   ]
  },
  {
   "cell_type": "code",
   "execution_count": 3,
   "metadata": {
    "collapsed": false
   },
   "outputs": [
    {
     "name": "stderr",
     "output_type": "stream",
     "text": [
      "WARNING: UnitsWarning: '1/deg^2' did not parse as fits unit: Numeric factor not supported by FITS [astropy.units.core]\n",
      "WARNING:astropy:UnitsWarning: '1/deg^2' did not parse as fits unit: Numeric factor not supported by FITS\n",
      "WARNING: UnitsWarning: 'nanomaggy' did not parse as fits unit: At col 0, Unit 'nanomaggy' not supported by the FITS standard.  [astropy.units.core]\n",
      "WARNING:astropy:UnitsWarning: 'nanomaggy' did not parse as fits unit: At col 0, Unit 'nanomaggy' not supported by the FITS standard. \n",
      "WARNING: UnitsWarning: '1/nanomaggy^2' did not parse as fits unit: Numeric factor not supported by FITS [astropy.units.core]\n",
      "WARNING:astropy:UnitsWarning: '1/nanomaggy^2' did not parse as fits unit: Numeric factor not supported by FITS\n",
      "WARNING: UnitsWarning: '1/arcsec^2' did not parse as fits unit: Numeric factor not supported by FITS [astropy.units.core]\n",
      "WARNING:astropy:UnitsWarning: '1/arcsec^2' did not parse as fits unit: Numeric factor not supported by FITS\n"
     ]
    }
   ],
   "source": [
    "data = Table.read('tractor-0001m002.fits')"
   ]
  },
  {
   "cell_type": "code",
   "execution_count": 4,
   "metadata": {
    "collapsed": false
   },
   "outputs": [
    {
     "name": "stdout",
     "output_type": "stream",
     "text": [
      "    - [brickid, >i4]\n",
      "    - [brickname, |S8]\n",
      "    - [objid, >i4]\n",
      "    - [brick_primary, bool]\n",
      "    - [blob, >i4]\n",
      "    - [ninblob, >i2]\n",
      "    - [tycho2inblob, bool]\n",
      "    - [type, |S4]\n",
      "    - [ra, >f8]\n",
      "    - [ra_ivar, >f4]\n",
      "    - [dec, >f8]\n",
      "    - [dec_ivar, >f4]\n",
      "    - [bx, >f4]\n",
      "    - [by, >f4]\n",
      "    - [bx0, >f4]\n",
      "    - [by0, >f4]\n",
      "    - [left_blob, bool]\n",
      "    - [out_of_bounds, bool]\n",
      "    - [dchisq, >f4]\n",
      "    - [ebv, >f4]\n",
      "    - [decam_flux, >f4]\n",
      "    - [decam_flux_ivar, >f4]\n",
      "    - [decam_apflux, >f4]\n",
      "    - [decam_apflux_resid, >f4]\n",
      "    - [decam_apflux_ivar, >f4]\n",
      "    - [decam_mw_transmission, >f4]\n",
      "    - [decam_nobs, uint8]\n",
      "    - [decam_rchi2, >f4]\n",
      "    - [decam_fracflux, >f4]\n",
      "    - [decam_fracmasked, >f4]\n",
      "    - [decam_fracin, >f4]\n",
      "    - [decam_anymask, >i2]\n",
      "    - [decam_allmask, >i2]\n",
      "    - [decam_psfsize, >f4]\n",
      "    - [wise_flux, >f4]\n",
      "    - [wise_flux_ivar, >f4]\n",
      "    - [wise_mw_transmission, >f4]\n",
      "    - [wise_nobs, >i2]\n",
      "    - [wise_fracflux, >f4]\n",
      "    - [wise_rchi2, >f4]\n",
      "    - [fracdev, >f4]\n",
      "    - [fracdev_ivar, >f4]\n",
      "    - [shapeexp_r, >f4]\n",
      "    - [shapeexp_r_ivar, >f4]\n",
      "    - [shapeexp_e1, >f4]\n",
      "    - [shapeexp_e1_ivar, >f4]\n",
      "    - [shapeexp_e2, >f4]\n",
      "    - [shapeexp_e2_ivar, >f4]\n",
      "    - [shapedev_r, >f4]\n",
      "    - [shapedev_r_ivar, >f4]\n",
      "    - [shapedev_e1, >f4]\n",
      "    - [shapedev_e1_ivar, >f4]\n",
      "    - [shapedev_e2, >f4]\n",
      "    - [shapedev_e2_ivar, >f4]\n",
      "    - [decam_depth, >f4]\n",
      "    - [decam_galdepth, >f4]\n"
     ]
    }
   ],
   "source": [
    "for column in data.dtype.names:\n",
    "    print \"    - [%s, %s]\" % (column.lower(), data[column].dtype)"
   ]
  },
  {
   "cell_type": "code",
   "execution_count": 5,
   "metadata": {
    "collapsed": false
   },
   "outputs": [
    {
     "name": "stdout",
     "output_type": "stream",
     "text": [
      "# Schema for DECaLS Tractor Files\r\n",
      "filters: {complevel: 5, complib: blosc}\r\n",
      "schema:\r\n",
      "  basic:\r\n",
      "    primary_key: oid\r\n",
      "    spatial_keys: [ra, dec]\r\n",
      "    columns:\r\n",
      "    - [oid, u8]\r\n",
      "    - [brickid, i4]\r\n",
      "    - [brickname, S8]\r\n",
      "    - [objid, i4]\r\n",
      "    - [brick_primary, bool]\r\n",
      "    - [blob, i4]\r\n",
      "    - [ninblob, i2]\r\n",
      "    - [tycho2inblob, bool]\r\n",
      "    - [type, S4]\r\n",
      "    - [ra, f8]\r\n",
      "    - [ra_ivar, f4]\r\n",
      "    - [dec, f8]\r\n",
      "    - [dec_ivar, f4]\r\n",
      "    - [bx, f4]\r\n",
      "    - [by, f4]\r\n",
      "    - [bx0, f4]\r\n",
      "    - [by0, f4]\r\n",
      "    - [left_blob, bool]\r\n",
      "    - [out_of_bounds, bool]\r\n",
      "    - [dchisq, 5f4]\r\n",
      "    - [ebv, f4]\r\n",
      "  photo:  \r\n",
      "    columns:\r\n",
      "    - [decam_flux, 6f4]\r\n",
      "    - [decam_flux_ivar, 6f4]\r\n",
      "    - [decam_apflux,'(6,8)f4']\r\n",
      "    - [decam_apflux_resid, '(6,8)f4']\r\n",
      "    - [decam_apflux_ivar, '(6,8)f4']\r\n",
      "    - [decam_mw_transmission, 6f4]\r\n",
      "    - [decam_nobs, 6i8]\r\n",
      "    - [decam_rchi2, 6f4]\r\n",
      "    - [decam_fracflux, 6f4]\r\n",
      "    - [decam_fracmasked, 6f4]\r\n",
      "    - [decam_fracin, 6f4]\r\n",
      "    - [decam_anymask, 6i2]\r\n",
      "    - [decam_allmask, 6i2]\r\n",
      "    - [decam_psfsize, 6f4]\r\n",
      "    - [decam_depth, 6f4]\r\n",
      "    - [decam_galdepth, 6f4]\r\n",
      "  wise:\r\n",
      "    columns:\r\n",
      "    - [wise_flux, 4f4]\r\n",
      "    - [wise_flux_ivar, 4f4]\r\n",
      "    - [wise_mw_transmission, 4f4]\r\n",
      "    - [wise_nobs, 4i2]\r\n",
      "    - [wise_fracflux, 4f4]\r\n",
      "    - [wise_rchi2, 4f4]\r\n",
      "\r\n",
      "  shape:  \r\n",
      "    columns:\r\n",
      "    - [fracdev, f4]\r\n",
      "    - [fracdev_ivar, f4]\r\n",
      "    - [shapeexp_r, f4]\r\n",
      "    - [shapeexp_r_ivar, f4]\r\n",
      "    - [shapeexp_e1, f4]\r\n",
      "    - [shapeexp_e1_ivar, f4]\r\n",
      "    - [shapeexp_e2, f4]\r\n",
      "    - [shapeexp_e2_ivar, f4]\r\n",
      "    - [shapedev_r, f4]\r\n",
      "    - [shapedev_r_ivar, f4]\r\n",
      "    - [shapedev_e1, f4]\r\n",
      "    - [shapedev_e1_ivar, f4]\r\n",
      "    - [shapedev_e2, f4]\r\n",
      "    - [shapedev_e2_ivar, f4]\r\n",
      "    \r\n",
      "    \r\n",
      "                         \r\n",
      "\r\n",
      "    "
     ]
    }
   ],
   "source": [
    "! cat DECaLS.yaml"
   ]
  },
  {
   "cell_type": "code",
   "execution_count": 6,
   "metadata": {
    "collapsed": true
   },
   "outputs": [],
   "source": [
    "import os\n",
    "os.environ['NWORKERS'] = '8'\n",
    "os.environ['LSD_CACHEDIR'] = os.environ['HOME']+'/tempdir'\n",
    "os.environ['LSD_TEMPDIR'] = os.environ['HOME']+'/tempdir'\n",
    "os.environ['LSD_DB'] = os.environ['HOME']+'/lsddb:/astro/apps6/opt/lsddb'"
   ]
  },
  {
   "cell_type": "code",
   "execution_count": 7,
   "metadata": {
    "collapsed": false
   },
   "outputs": [
    {
     "name": "stdout",
     "output_type": "stream",
     "text": [
      "Table 'DECaLS' dropped.\n",
      "\n",
      "-------- committing 20160308204940.448764 [DECaLS] ---------\n",
      "[DECaLS] Updating tablet catalog: [256 el.]::::::::::::::::::::>  0.26 sec\n",
      "[DECaLS] Updating neighbors: Already up to date.\n",
      "[DECaLS] Updating tablet catalog: [256 el.]::::::::::::::::::::>  0.25 sec\n",
      "[DECaLS] Updating stats: [0 el.]>  0.00 sec\n",
      "[DECaLS] Marking tablets read-only...\n",
      "----------- success 20160308204940.448764 [DECaLS] ---------\n",
      "\n",
      "Table 'DECaLS' created.\n"
     ]
    }
   ],
   "source": [
    "! lsd-admin create table --schema DECaLS.yaml DECaLS --drop-existing"
   ]
  },
  {
   "cell_type": "code",
   "execution_count": 8,
   "metadata": {
    "collapsed": false
   },
   "outputs": [
    {
     "name": "stdout",
     "output_type": "stream",
     "text": [
      "Importing from 1 pieces:\n",
      "  ===> Imported tractor-0001m002.fits                                                  [1/1, 100.00%] +   4791/4791         4791 (0/0 min.)\n",
      "done\n",
      "\n",
      "-------- committing 20160308204945.714587 [DECaLS] ---------\n",
      "[DECaLS] Updating tablet catalog: [256 el.]::::::::::::::::::::>  0.24 sec\n",
      "[DECaLS] Updating neighbors: [3 el.]::::::::::::::::::::[15 el.]++++++++++++++++++++>  0.80 sec\n",
      "         Total 4748 cached objects in 15 cells\n",
      "[DECaLS] Updating tablet catalog: [256 el.]::::::::::::::::::::>  0.29 sec\n",
      "[DECaLS] Updating stats: [15 el.]::::::::::::::::::::>  0.04 sec [15 el.]::::::::::::::::::::>  0.07 sec\n",
      "[DECaLS] Marking tablets read-only...\n",
      "----------- success 20160308204945.714587 [DECaLS] ---------\n",
      "\n"
     ]
    }
   ],
   "source": [
    "! lsd-import fits DECaLS tractor-0001m002.fits"
   ]
  },
  {
   "cell_type": "code",
   "execution_count": null,
   "metadata": {
    "collapsed": true
   },
   "outputs": [],
   "source": []
  }
 ],
 "metadata": {
  "kernelspec": {
   "display_name": "Python 2",
   "language": "python",
   "name": "python2"
  },
  "language_info": {
   "codemirror_mode": {
    "name": "ipython",
    "version": 2
   },
   "file_extension": ".py",
   "mimetype": "text/x-python",
   "name": "python",
   "nbconvert_exporter": "python",
   "pygments_lexer": "ipython2",
   "version": "2.7.11"
  }
 },
 "nbformat": 4,
 "nbformat_minor": 0
}
